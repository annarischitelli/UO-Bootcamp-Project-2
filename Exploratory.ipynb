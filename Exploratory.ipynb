{
 "cells": [
  {
   "cell_type": "code",
   "execution_count": 2,
   "metadata": {},
   "outputs": [],
   "source": [
    "# Dependencies\n",
    "import numpy as np\n",
    "import pandas as pd\n",
    "import matplotlib.pyplot as plt\n",
    "import requests\n",
    "import json\n",
    "from pprint import pprint"
   ]
  },
  {
   "cell_type": "code",
   "execution_count": 4,
   "metadata": {},
   "outputs": [],
   "source": [
    "# Census API Key\n",
    "from config import api_key"
   ]
  },
  {
   "cell_type": "code",
   "execution_count": null,
   "metadata": {},
   "outputs": [],
   "source": [
    "url = https://developer.nrel.gov//api/pvwatts/v6.json?\n",
    "lat = 45\n",
    "lon = -122\n",
    "system_capacity = 4\n",
    "azimuth = 180\n",
    "tilt = 40\n",
    "array_type = 1\n",
    "module_type = 1\n",
    "losses = 10\n",
    "\n",
    "query_url = url + “api_key=” + api_key + “&lat=” + “&lon=” + “&system_capacity=” + “&azimuth=” + “&lon=”\n",
    "\n",
    "# Example\n",
    "# url = “http://api.openweathermap.org/data/2.5/weather?”\n",
    "# city = “London”#\n",
    "# Build query URL\n",
    "# query_url = url + “appid=” + api_key + “&q=” + city"
   ]
  }
 ],
 "metadata": {
  "kernelspec": {
   "display_name": "Python 3",
   "language": "python",
   "name": "python3"
  },
  "language_info": {
   "codemirror_mode": {
    "name": "ipython",
    "version": 3
   },
   "file_extension": ".py",
   "mimetype": "text/x-python",
   "name": "python",
   "nbconvert_exporter": "python",
   "pygments_lexer": "ipython3",
   "version": "3.6.10"
  }
 },
 "nbformat": 4,
 "nbformat_minor": 4
}
